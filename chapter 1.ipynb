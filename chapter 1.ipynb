{
  "nbformat": 4,
  "nbformat_minor": 0,
  "metadata": {
    "colab": {
      "name": "Untitled1.ipynb",
      "version": "0.3.2",
      "provenance": [],
      "include_colab_link": true
    },
    "kernelspec": {
      "name": "python3",
      "display_name": "Python 3"
    }
  },
  "cells": [
    {
      "cell_type": "markdown",
      "metadata": {
        "id": "view-in-github",
        "colab_type": "text"
      },
      "source": [
        "<a href=\"https://colab.research.google.com/github/clownhau0725/py-/blob/master/chapter%201.ipynb\" target=\"_parent\"><img src=\"https://colab.research.google.com/assets/colab-badge.svg\" alt=\"Open In Colab\"/></a>"
      ]
    },
    {
      "metadata": {
        "id": "GqVwygjr4w7v",
        "colab_type": "text"
      },
      "cell_type": "markdown",
      "source": [
        "### chapter 1-1\n",
        "Welcome.py"
      ]
    },
    {
      "metadata": {
        "id": "SyjK5ohJ7Cbf",
        "colab_type": "code",
        "colab": {
          "base_uri": "https://localhost:8080/",
          "height": 51
        },
        "outputId": "69a058a9-6e68-42a5-86b2-0a6b154a213a"
      },
      "cell_type": "code",
      "source": [
        "# Display two messages\n",
        "print(\"Welcome to Python\")\n",
        "print(\"Python is fun\")"
      ],
      "execution_count": 3,
      "outputs": [
        {
          "output_type": "stream",
          "text": [
            "Welcome to Python\n",
            "Python is fun\n"
          ],
          "name": "stdout"
        }
      ]
    },
    {
      "metadata": {
        "id": "3D8u1XfH8Aqn",
        "colab_type": "text"
      },
      "cell_type": "markdown",
      "source": [
        "### chapter 1-2"
      ]
    },
    {
      "metadata": {
        "id": "CmMgo-p57Ooe",
        "colab_type": "code",
        "colab": {
          "base_uri": "https://localhost:8080/",
          "height": 68
        },
        "outputId": "fa6662a3-abef-467c-f823-639bad21c5ca"
      },
      "cell_type": "code",
      "source": [
        "# Display three messages\n",
        "print(\"Welcome to Python\")\n",
        "print(\"Python is fun\")\n",
        "print(\"Problem Driven\")  \n"
      ],
      "execution_count": 4,
      "outputs": [
        {
          "output_type": "stream",
          "text": [
            "Welcome to Python\n",
            "Python is fun\n",
            "Problem Driven\n"
          ],
          "name": "stdout"
        }
      ]
    },
    {
      "metadata": {
        "id": "uAg348N48HrW",
        "colab_type": "text"
      },
      "cell_type": "markdown",
      "source": [
        "### chapter1-3"
      ]
    },
    {
      "metadata": {
        "id": "x8OKchxz7VCf",
        "colab_type": "code",
        "colab": {
          "base_uri": "https://localhost:8080/",
          "height": 34
        },
        "outputId": "4ff0bf24-6441-46e6-f346-e34a27fcef08"
      },
      "cell_type": "code",
      "source": [
        "# Compute expression\n",
        "print(10.5 + 2 * 3) / (45 - 3.5)"
      ],
      "execution_count": 6,
      "outputs": [
        {
          "output_type": "stream",
          "text": [
            "0.39759036144578314\n"
          ],
          "name": "stdout"
        }
      ]
    },
    {
      "metadata": {
        "id": "tBxGYDv58Niu",
        "colab_type": "text"
      },
      "cell_type": "markdown",
      "source": [
        "### chapter1-4"
      ]
    },
    {
      "metadata": {
        "id": "Z3DjWuge7k8e",
        "colab_type": "code",
        "colab": {
          "base_uri": "https://localhost:8080/",
          "height": 51
        },
        "outputId": "42d142f3-9a01-4f90-936d-6c961b7aea96"
      },
      "cell_type": "code",
      "source": [
        "# Convert Fahrenheit to Celsius\n",
        "print(\"Fahrenheit 35 is Celsius degree \")\n",
        "print(5 / 9 * 35 - 32)"
      ],
      "execution_count": 9,
      "outputs": [
        {
          "output_type": "stream",
          "text": [
            "Fahrenheit 35 is Celsius degree \n",
            "-12.555555555555554\n"
          ],
          "name": "stdout"
        }
      ]
    }
  ]
}